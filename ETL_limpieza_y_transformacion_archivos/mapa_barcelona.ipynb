{
 "cells": [
  {
   "cell_type": "code",
   "execution_count": 1,
   "metadata": {},
   "outputs": [
    {
     "name": "stdout",
     "output_type": "stream",
     "text": [
      "Reemplazado: SarriÃ -Sant Gervasi -> Sarrià-Sant Gervasi\n",
      "Reemplazado: Horta-GuinardÃ³ -> Horta-Guinardó\n",
      "Reemplazado: Sants-MontjuÃ¯c -> Sants-Montjuïc\n",
      "Reemplazado: GrÃ cia -> Gràcia\n",
      "Reemplazado: Sant MartÃ­ -> Sant Martí\n",
      "Archivo JSON corregido guardado como 'shapefile_distrito_barcelona_corregido.json'\n"
     ]
    }
   ],
   "source": [
    "import json\n",
    "\n",
    "def corregir_nombres(data):\n",
    "    # Verifica la clave 'objects' en los datos\n",
    "    if 'objects' in data and 'shapefile_distrito_barcelona' in data['objects']:\n",
    "        geometries = data['objects']['shapefile_distrito_barcelona']['geometries']\n",
    "        \n",
    "        # Itera sobre cada geometría\n",
    "        for geom in geometries:\n",
    "            if 'properties' in geom and 'n_distri' in geom['properties']:\n",
    "                original_name = geom['properties']['n_distri']\n",
    "                # Aplica las correcciones\n",
    "                corrected_name = original_name.replace(\n",
    "                    'SarriÃ -Sant Gervasi', 'Sarrià-Sant Gervasi'\n",
    "                ).replace(\n",
    "                    'Horta-GuinardÃ³', 'Horta-Guinardó'\n",
    "                ).replace(\n",
    "                    'Sants-MontjuÃ¯c', 'Sants-Montjuïc'\n",
    "                ).replace(\n",
    "                    'San MartÃ­', 'Sant Martí'\n",
    "                ).replace(\n",
    "                    'GrÃ cia', 'Gràcia'\n",
    "                ).replace(\n",
    "                    'Sant MartÃ­', 'Sant Martí'\n",
    "                )\n",
    "                # Imprime el nombre original y el corregido para depuración\n",
    "                if original_name != corrected_name:\n",
    "                    print(f'Reemplazado: {original_name} -> {corrected_name}')\n",
    "                geom['properties']['n_distri'] = corrected_name\n",
    "    return data\n",
    "\n",
    "# Leer el archivo JSON original\n",
    "with open('shapefile_distrito_barcelona.json', 'r', encoding='utf-8') as f:\n",
    "    data = json.load(f)\n",
    "\n",
    "# Corregir nombres\n",
    "data_corregida = corregir_nombres(data)\n",
    "\n",
    "# Guardar el archivo JSON corregido\n",
    "with open('shapefile_distrito_barcelona_corregido.json', 'w', encoding='utf-8') as f:\n",
    "    json.dump(data_corregida, f, indent=4, ensure_ascii=False)\n",
    "\n",
    "print(\"Archivo JSON corregido guardado como 'shapefile_distrito_barcelona_corregido.json'\")"
   ]
  }
 ],
 "metadata": {
  "kernelspec": {
   "display_name": "base",
   "language": "python",
   "name": "python3"
  },
  "language_info": {
   "codemirror_mode": {
    "name": "ipython",
    "version": 3
   },
   "file_extension": ".py",
   "mimetype": "text/x-python",
   "name": "python",
   "nbconvert_exporter": "python",
   "pygments_lexer": "ipython3",
   "version": "3.11.5"
  }
 },
 "nbformat": 4,
 "nbformat_minor": 2
}
